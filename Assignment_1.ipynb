{
  "nbformat": 4,
  "nbformat_minor": 0,
  "metadata": {
    "colab": {
      "provenance": []
    },
    "kernelspec": {
      "name": "python3",
      "display_name": "Python 3"
    },
    "language_info": {
      "name": "python"
    }
  },
  "cells": [
    {
      "cell_type": "markdown",
      "source": [
        "ASSIGNMENT 1"
      ],
      "metadata": {
        "id": "iSHz9l_NS8tP"
      }
    },
    {
      "cell_type": "markdown",
      "source": [
        "1.What is Python, and why is it popular?\n",
        "\n",
        "Answer:\n",
        "Python is a high-level, interpreted, and general-purpose programming language known for its simple syntax, readability, and versatility. It supports multiple programming paradigms (procedural, OOP, functional) and is widely used in web development, data science, AI, automation, and more.  \n",
        "\n",
        "Why Popular?\n",
        "✔ Easy to learn & read.  \n",
        "✔ Extensive libraries (NumPy, Pandas, Django).  \n",
        "✔ Strong community & industry demand.  \n",
        "✔ Cross-platform compatibility."
      ],
      "metadata": {
        "id": "olfPvjrEYWYc"
      }
    },
    {
      "cell_type": "markdown",
      "source": [
        "2.What is an interpreter in Python?\n",
        "\n",
        "Answer:\n",
        "\n",
        "An interpreter in Python is a program that executes Python code line by line(without compiling it into machine code first). It reads, translates, and runs the code sequentially, making debugging easier but slightly slower than compiled languages."
      ],
      "metadata": {
        "id": "VX_YWz2wYgtd"
      }
    },
    {
      "cell_type": "markdown",
      "source": [
        "3.What are pre-defined keywords in Python?  \n",
        "Answer:  \n",
        "Pre-defined keywords are reserved words in Python that have special meanings and\n",
        "cannot be used as identifiers(e.g., variable names).\n",
        "\n",
        " Examples:  \n",
        "- if, else, for, while, def, class, True, False, None."
      ],
      "metadata": {
        "id": "fMFmyOuwdPzO"
      }
    },
    {
      "cell_type": "markdown",
      "source": [
        "4.Can keywords be used as variable names?  \n",
        "Answer:\n",
        "No, Python keywords cannot be used as variable names. Attempting to do so raises a SyntaxError."
      ],
      "metadata": {
        "id": "vrIwQdKqddpp"
      }
    },
    {
      "cell_type": "code",
      "source": [
        "if=10 #it will give Syntax error"
      ],
      "metadata": {
        "id": "JbaoP75bdJki"
      },
      "execution_count": 5,
      "outputs": []
    },
    {
      "cell_type": "markdown",
      "source": [
        "5.What is mutability in Python?\n",
        "\n",
        "Answer:\n",
        "Mutability refers to whether an object’s value can be changed after creation.  \n",
        "- Mutable: Can be modified (e.g., lists, dictionaries).  \n",
        "- Immutable: Cannot be modified (e.g., tuples, strings, integers).\n",
        "\n"
      ],
      "metadata": {
        "id": "Dz2iFJeGeIL2"
      }
    },
    {
      "cell_type": "markdown",
      "source": [
        "6.Why are lists mutable, but tuples are immutable?\n",
        "Answer:\n",
        "- Lists are mutable to allow dynamic operations (add/remove elements).  \n",
        "- Tuples are immutable for safety(e.g., use as dictionary keys) and performance optimization.\n",
        "\n",
        "For example:"
      ],
      "metadata": {
        "id": "5hAsLF7medS7"
      }
    },
    {
      "cell_type": "code",
      "execution_count": 4,
      "metadata": {
        "id": "4wRIZ0l4SyLv"
      },
      "outputs": [],
      "source": [
        "list1=[1,2]\n",
        "list1[0]=88 #This code works as lists are mutable\n",
        "\n",
        "tuple1=(1,2)\n",
        "tuple1[0]=88 #This code wont work as tuple is non mutable"
      ]
    },
    {
      "cell_type": "markdown",
      "source": [
        "7. What is the difference between “==” and “is” operators?\n",
        "Answer:\n",
        "- == checks value equality.  \n",
        "- is  checks memory Identity (same object).\n",
        "\n",
        "For example:"
      ],
      "metadata": {
        "id": "EyDlUhjIfk43"
      }
    },
    {
      "cell_type": "code",
      "source": [
        "a=[1,2]\n",
        "b=[1,2]\n",
        "print(a == b) #True as these are same values\n",
        "print(a is b) #Although their values are same,their identities are not same hence it wont work"
      ],
      "metadata": {
        "id": "FQbq5dzDf2dr"
      },
      "execution_count": null,
      "outputs": []
    },
    {
      "cell_type": "markdown",
      "source": [
        "8. What are logical operators in Python?\n",
        "Answer:\n",
        "Logical operators perform boolean logic:  \n",
        "- and → True if both operands are true.  \n",
        "- or → True if at least one operand is true.  \n",
        "- not → Inverts the boolean value"
      ],
      "metadata": {
        "id": "NsrEJU6ngmtZ"
      }
    },
    {
      "cell_type": "code",
      "source": [
        "a=5\n",
        "b=3\n",
        "c=10\n",
        "d=20\n",
        "if a>b and c<d:\n",
        "  print('True')\n",
        "else:\n",
        "  print('False')"
      ],
      "metadata": {
        "colab": {
          "base_uri": "https://localhost:8080/"
        },
        "id": "iMkHbKARg-2W",
        "outputId": "c30e1324-653b-4057-ffa4-df30270d3e8a"
      },
      "execution_count": 6,
      "outputs": [
        {
          "output_type": "stream",
          "name": "stdout",
          "text": [
            "True\n"
          ]
        }
      ]
    },
    {
      "cell_type": "markdown",
      "source": [
        "9.What is type casting in Python?\n",
        "Answer:  \n",
        "Type casting converts one data type to another explicitly.  \n",
        "- int(\"10\") → String to integer.  \n",
        "- str(100) → Integer to string"
      ],
      "metadata": {
        "id": "aFNxCxsHhrdZ"
      }
    },
    {
      "cell_type": "code",
      "source": [
        "num_str=\"10\"\n",
        "num_int=int(num_str)\n",
        "print(type(num_int))"
      ],
      "metadata": {
        "colab": {
          "base_uri": "https://localhost:8080/"
        },
        "id": "vCsMLbYRiAik",
        "outputId": "6e0e05af-7b05-4350-f247-b63e8d5f41e5"
      },
      "execution_count": 7,
      "outputs": [
        {
          "output_type": "stream",
          "name": "stdout",
          "text": [
            "<class 'int'>\n"
          ]
        }
      ]
    },
    {
      "cell_type": "markdown",
      "source": [
        "10. Difference between implicit and explicit type casting?\n",
        "Answer:\n",
        "- Implicit: Python automatically converts types (e.g., int + float → float).  \n",
        "- Explicit: Programmer manually converts types (e.g., str(100))."
      ],
      "metadata": {
        "id": "DtP_L3rviZNP"
      }
    },
    {
      "cell_type": "code",
      "source": [
        "#implicit\n",
        "result=5+2.0\n",
        "\n",
        "#explicit\n",
        "age=int(\"25\")\n",
        "\n",
        "print(type(result))\n",
        "print(type(age))"
      ],
      "metadata": {
        "colab": {
          "base_uri": "https://localhost:8080/"
        },
        "id": "PYU4JuYCixOl",
        "outputId": "e6633c29-4a44-41d1-debd-25bed8a305b3"
      },
      "execution_count": 8,
      "outputs": [
        {
          "output_type": "stream",
          "name": "stdout",
          "text": [
            "<class 'float'>\n",
            "<class 'int'>\n"
          ]
        }
      ]
    },
    {
      "cell_type": "markdown",
      "source": [
        "11.Purpose of conditional statements in  Python?\n",
        "\n",
        "Answer:\n",
        "Conditional statements (if, elif, else) control program flow based on conditions.\n",
        "\n",
        "Example:"
      ],
      "metadata": {
        "id": "pQNBz_IDjg84"
      }
    },
    {
      "cell_type": "code",
      "source": [
        "if age >= 18:\n",
        "  print('Adult')\n",
        "else:\n",
        "  print(\"Minor\")"
      ],
      "metadata": {
        "id": "YmcgFlkTjqRt"
      },
      "execution_count": null,
      "outputs": []
    },
    {
      "cell_type": "markdown",
      "source": [
        "12.How does the elif statement work?\n",
        "\n",
        "Answer:\n",
        "elif (else-if) checks multiple conditions after an if statement. The first true condition executes, and the rest are skipped."
      ],
      "metadata": {
        "id": "iZdmPYM5ql0O"
      }
    },
    {
      "cell_type": "code",
      "source": [
        "score=75\n",
        "if score >= 90:\n",
        "  print('A')\n",
        "elif score >= 90:\n",
        "  print('B')\n",
        "else:\n",
        "  print('C')"
      ],
      "metadata": {
        "id": "KBEs4TzlqxhQ"
      },
      "execution_count": null,
      "outputs": []
    },
    {
      "cell_type": "markdown",
      "source": [
        "13.Difference between for and while loops?\n",
        "\n",
        "Answer:\n",
        "- for loop: Iterates over a sequence (e.g., list, string).  \n",
        "- while loop: Runs until a condition is false."
      ],
      "metadata": {
        "id": "TEU-WtTVrdiJ"
      }
    },
    {
      "cell_type": "code",
      "source": [
        "#For loop\n",
        "for i in range(0,3):\n",
        "  print('Python')\n",
        "\n",
        "#While loop\n",
        "count=0\n",
        "while count<3:\n",
        "  print(count)\n",
        "  count += 1"
      ],
      "metadata": {
        "colab": {
          "base_uri": "https://localhost:8080/"
        },
        "id": "WrQBwMCFrrHp",
        "outputId": "392081e1-a46e-483f-dae1-e12bf2827e51"
      },
      "execution_count": 9,
      "outputs": [
        {
          "output_type": "stream",
          "name": "stdout",
          "text": [
            "Python\n",
            "Python\n",
            "Python\n",
            "0\n",
            "1\n",
            "2\n"
          ]
        }
      ]
    },
    {
      "cell_type": "markdown",
      "source": [
        "14.When is a while loop more suitable than a for loop?\n",
        "\n",
        "Answer:\n",
        "Use while when:  \n",
        "✔ The number of iterations is unknown (e.g., user input validation).  \n",
        "✔ A condition must persist (e.g., game loop, real-time monitoring)."
      ],
      "metadata": {
        "id": "mmCR4TGUs3pM"
      }
    },
    {
      "cell_type": "code",
      "source": [
        "# User input validation\n",
        "while True:\n",
        "    user_input = input(\"Enter 'quit' to exit: \")\n",
        "    if user_input == \"quit\":\n",
        "        break"
      ],
      "metadata": {
        "colab": {
          "base_uri": "https://localhost:8080/"
        },
        "id": "8-uNIwJls8pK",
        "outputId": "8e8ef8a0-5df4-4f44-a659-7f1423771920"
      },
      "execution_count": 10,
      "outputs": [
        {
          "name": "stdout",
          "output_type": "stream",
          "text": [
            "Enter 'quit' to exit: quit\n"
          ]
        }
      ]
    },
    {
      "cell_type": "markdown",
      "source": [
        "Practical **Questions**"
      ],
      "metadata": {
        "id": "Gw0dxgq-wDYm"
      }
    },
    {
      "cell_type": "markdown",
      "source": [
        "1. Write a Python program to print \"Hello, World!"
      ],
      "metadata": {
        "id": "ZWLRb2-CwMSH"
      }
    },
    {
      "cell_type": "code",
      "source": [
        "print(\"Hello, World!\")"
      ],
      "metadata": {
        "colab": {
          "base_uri": "https://localhost:8080/"
        },
        "id": "sCFucJvxwUaJ",
        "outputId": "837a913e-a7e8-4fe5-a744-40ba555ae1f1"
      },
      "execution_count": 11,
      "outputs": [
        {
          "output_type": "stream",
          "name": "stdout",
          "text": [
            "Hello, World!\n"
          ]
        }
      ]
    },
    {
      "cell_type": "markdown",
      "source": [
        "2. Write a Python program that displays your name and age"
      ],
      "metadata": {
        "id": "G2ClpPGMwddI"
      }
    },
    {
      "cell_type": "code",
      "source": [
        "name = input(\"Enter your name: \")\n",
        "age = input(\"Enter your age: \")\n",
        "print(f\"Name: {name}, Age: {age}\")"
      ],
      "metadata": {
        "colab": {
          "base_uri": "https://localhost:8080/"
        },
        "id": "fjun1gRYwzBp",
        "outputId": "0a9f1d89-024b-45e1-ad6e-17b47efd9bf3"
      },
      "execution_count": 12,
      "outputs": [
        {
          "output_type": "stream",
          "name": "stdout",
          "text": [
            "Enter your name: sagar\n",
            "Enter your age: 23\n",
            "Name: sagar, Age: 23\n"
          ]
        }
      ]
    },
    {
      "cell_type": "markdown",
      "source": [
        "3. Write code to print all the pre-defined keywords in Python using the keyword library."
      ],
      "metadata": {
        "id": "6bM7stKnxSB9"
      }
    },
    {
      "cell_type": "code",
      "source": [
        "import keyword\n",
        "print(\"Python keywords:\", keyword.kwlist)"
      ],
      "metadata": {
        "colab": {
          "base_uri": "https://localhost:8080/"
        },
        "id": "mpLhphvBxYDG",
        "outputId": "4ada5ac5-1a24-464c-c735-770e13dd58b5"
      },
      "execution_count": 13,
      "outputs": [
        {
          "output_type": "stream",
          "name": "stdout",
          "text": [
            "Python keywords: ['False', 'None', 'True', 'and', 'as', 'assert', 'async', 'await', 'break', 'class', 'continue', 'def', 'del', 'elif', 'else', 'except', 'finally', 'for', 'from', 'global', 'if', 'import', 'in', 'is', 'lambda', 'nonlocal', 'not', 'or', 'pass', 'raise', 'return', 'try', 'while', 'with', 'yield']\n"
          ]
        }
      ]
    },
    {
      "cell_type": "markdown",
      "source": [
        "4. Write a program that checks if a given word is a Python keyword."
      ],
      "metadata": {
        "id": "PTIAWZNMx7Jy"
      }
    },
    {
      "cell_type": "code",
      "source": [
        "import keyword\n",
        "\n",
        "word = input(\"Enter a word: \")\n",
        "print(f\"{word} is a keyword: {keyword.iskeyword(word)}\")"
      ],
      "metadata": {
        "colab": {
          "base_uri": "https://localhost:8080/"
        },
        "id": "un4fIOG3yK9x",
        "outputId": "ed92f2de-5d92-444f-aa26-5f119ffcef9f"
      },
      "execution_count": 14,
      "outputs": [
        {
          "output_type": "stream",
          "name": "stdout",
          "text": [
            "Enter a word: def\n",
            "def is a keyword: True\n"
          ]
        }
      ]
    },
    {
      "cell_type": "markdown",
      "source": [
        "5. Create a list and tuple in Python, and demonstrate how attempting to change an element works differently\n",
        "for each."
      ],
      "metadata": {
        "id": "cHBBdbzHymzP"
      }
    },
    {
      "cell_type": "code",
      "source": [
        "my_list = [1, 2, 3]\n",
        "my_tuple = (1, 2, 3)\n",
        "\n",
        "# Modify list (works)\n",
        "my_list[0] = 10\n",
        "print(\"Modified list:\", my_list)\n",
        "\n",
        "# Attempt to modify tuple (raises error)\n",
        "try:\n",
        "    my_tuple[0] = 10\n",
        "except TypeError as e:\n",
        "    print(\"Tuple modification error:\", e)"
      ],
      "metadata": {
        "colab": {
          "base_uri": "https://localhost:8080/"
        },
        "id": "Ab3oZ0dWyuUP",
        "outputId": "7f299df1-ff24-4d52-a8c2-5c35baad80fe"
      },
      "execution_count": 15,
      "outputs": [
        {
          "output_type": "stream",
          "name": "stdout",
          "text": [
            "Modified list: [10, 2, 3]\n",
            "Tuple modification error: 'tuple' object does not support item assignment\n"
          ]
        }
      ]
    },
    {
      "cell_type": "markdown",
      "source": [
        "6. Write a function to demonstrate the behavior of mutable and immutable arguments"
      ],
      "metadata": {
        "id": "lpeHj3SpzGzi"
      }
    },
    {
      "cell_type": "code",
      "source": [
        "def modify_args(mutable_list, immutable_int):\n",
        "    mutable_list.append(4)\n",
        "    immutable_int += 10\n",
        "    print(\"Inside function:\", mutable_list, immutable_int)\n",
        "\n",
        "my_list = [1, 2, 3]\n",
        "my_int = 5\n",
        "modify_args(my_list, my_int)\n",
        "print(\"Outside function:\", my_list, my_int)"
      ],
      "metadata": {
        "colab": {
          "base_uri": "https://localhost:8080/"
        },
        "id": "nSYok3nLzH_F",
        "outputId": "6e7af98d-8d72-4d5d-8c4f-dd367498e581"
      },
      "execution_count": 16,
      "outputs": [
        {
          "output_type": "stream",
          "name": "stdout",
          "text": [
            "Inside function: [1, 2, 3, 4] 15\n",
            "Outside function: [1, 2, 3, 4] 5\n"
          ]
        }
      ]
    },
    {
      "cell_type": "markdown",
      "source": [
        "7. Write a program that performs basic arithmetic operations on two user-input numbers."
      ],
      "metadata": {
        "id": "7C6g4wXLz2GE"
      }
    },
    {
      "cell_type": "code",
      "source": [
        "num1 = float(input(\"Enter first number: \"))\n",
        "num2 = float(input(\"Enter second number: \"))\n",
        "\n",
        "print(f\"Sum: {num1 + num2}\")\n",
        "print(f\"Difference: {num1 - num2}\")\n",
        "print(f\"Product: {num1 * num2}\")\n",
        "print(f\"Quotient: {num1 / num2}\")"
      ],
      "metadata": {
        "colab": {
          "base_uri": "https://localhost:8080/"
        },
        "id": "K86HtwGkz5Ig",
        "outputId": "4676ae8a-d063-41ec-d417-e24f1b20c3d3"
      },
      "execution_count": 17,
      "outputs": [
        {
          "output_type": "stream",
          "name": "stdout",
          "text": [
            "Enter first number: 5\n",
            "Enter second number: 6\n",
            "Sum: 11.0\n",
            "Difference: -1.0\n",
            "Product: 30.0\n",
            "Quotient: 0.8333333333333334\n"
          ]
        }
      ]
    },
    {
      "cell_type": "markdown",
      "source": [
        "8. Write a program to demonstrate the use of logical operators."
      ],
      "metadata": {
        "id": "lbYmblrW0dpo"
      }
    },
    {
      "cell_type": "code",
      "source": [
        "a = True\n",
        "b = False\n",
        "\n",
        "print(f\"a and b: {a and b}\")  # False\n",
        "print(f\"a or b: {a or b}\")    # True\n",
        "print(f\"not a: {not a}\")      # False"
      ],
      "metadata": {
        "colab": {
          "base_uri": "https://localhost:8080/"
        },
        "id": "QHn_UmUl0et5",
        "outputId": "236cdf99-98b9-489d-e96e-eca1715b51d8"
      },
      "execution_count": 18,
      "outputs": [
        {
          "output_type": "stream",
          "name": "stdout",
          "text": [
            "a and b: False\n",
            "a or b: True\n",
            "not a: False\n"
          ]
        }
      ]
    },
    {
      "cell_type": "markdown",
      "source": [
        "9. Write a Python program to convert user input from string to integer, float, and boolean types."
      ],
      "metadata": {
        "id": "mx_nXjR50qeS"
      }
    },
    {
      "cell_type": "code",
      "source": [
        "a=input('Enter a value ')\n",
        "a=str(a)\n",
        "try:\n",
        "  print('Integer: ',int(a))\n",
        "  print('Float: ',float(a))\n",
        "  print('Boolean: ',bool(a))\n",
        "except ValueError:\n",
        "  print('Invalid input')"
      ],
      "metadata": {
        "colab": {
          "base_uri": "https://localhost:8080/"
        },
        "id": "KjqSM6wo0r1P",
        "outputId": "17985141-7e0e-460a-8db9-14468a10c337"
      },
      "execution_count": 26,
      "outputs": [
        {
          "output_type": "stream",
          "name": "stdout",
          "text": [
            "Enter a value 85\n",
            "Integer:  85\n",
            "Float:  85.0\n",
            "Boolean:  True\n"
          ]
        }
      ]
    },
    {
      "cell_type": "markdown",
      "source": [
        "10. Write code to demonstrate type casting with list elements."
      ],
      "metadata": {
        "id": "tpfPKjBa3yAo"
      }
    },
    {
      "cell_type": "code",
      "source": [
        "original_list = ['10', '20.5', '30', 'True']\n",
        "\n",
        "int_list = [int(x) for x in original_list if x.isdigit()]\n",
        "float_list = [float(x) for x in original_list if x.replace('.', '', 1).isdigit()]\n",
        "bool_list = [bool(x) for x in original_list]\n",
        "\n",
        "print(f\"Int List: {int_list}, Float List: {float_list}, Bool List: {bool_list}\")"
      ],
      "metadata": {
        "colab": {
          "base_uri": "https://localhost:8080/"
        },
        "id": "WwdIbFaf34sJ",
        "outputId": "bd58b55f-661d-4e28-fc16-cbe2ef119d72"
      },
      "execution_count": 27,
      "outputs": [
        {
          "output_type": "stream",
          "name": "stdout",
          "text": [
            "Int List: [10, 30], Float List: [10.0, 20.5, 30.0], Bool List: [True, True, True, True]\n"
          ]
        }
      ]
    },
    {
      "cell_type": "markdown",
      "source": [
        "11. Write a program that checks if a number is positive, negative, or zero"
      ],
      "metadata": {
        "id": "vYbqMVil9VZy"
      }
    },
    {
      "cell_type": "code",
      "source": [
        "num=float(input('Enter the number :'))\n",
        "if num>0:\n",
        "  print('Nmuber is postive')\n",
        "elif num<0:\n",
        "  print('Number is negative')\n",
        "else:\n",
        "  print('Number is zero')"
      ],
      "metadata": {
        "colab": {
          "base_uri": "https://localhost:8080/"
        },
        "id": "K-hCvO2N9XDQ",
        "outputId": "01a5919e-257f-45ae-a190-0f914761e511"
      },
      "execution_count": 28,
      "outputs": [
        {
          "output_type": "stream",
          "name": "stdout",
          "text": [
            "Enter the number :5\n",
            "Nmuber is postive\n"
          ]
        }
      ]
    },
    {
      "cell_type": "markdown",
      "source": [
        "12. Write a for loop to print numbers from 1 to 10.\n",
        "\n"
      ],
      "metadata": {
        "id": "NkrfshST-iIC"
      }
    },
    {
      "cell_type": "code",
      "source": [
        "for i in range(1, 11):\n",
        "    print(i)"
      ],
      "metadata": {
        "colab": {
          "base_uri": "https://localhost:8080/"
        },
        "id": "_sGstkww-jzf",
        "outputId": "51ac88e8-8f4f-4992-fa93-a46d2bd1757b"
      },
      "execution_count": 29,
      "outputs": [
        {
          "output_type": "stream",
          "name": "stdout",
          "text": [
            "1\n",
            "2\n",
            "3\n",
            "4\n",
            "5\n",
            "6\n",
            "7\n",
            "8\n",
            "9\n",
            "10\n"
          ]
        }
      ]
    },
    {
      "cell_type": "markdown",
      "source": [
        "13. Write a Python program to find the sum of all even numbers between 1 and 50."
      ],
      "metadata": {
        "id": "RCXcC9RO-3Ja"
      }
    },
    {
      "cell_type": "code",
      "source": [
        "total = sum(range(2, 51, 2))\n",
        "print(\"Sum of even numbers (1-50):\", total)"
      ],
      "metadata": {
        "colab": {
          "base_uri": "https://localhost:8080/"
        },
        "id": "n7mmTvMA-66t",
        "outputId": "3ac5729c-555e-47ab-bf37-83e3965cae71"
      },
      "execution_count": 30,
      "outputs": [
        {
          "output_type": "stream",
          "name": "stdout",
          "text": [
            "Sum of even numbers (1-50): 650\n"
          ]
        }
      ]
    },
    {
      "cell_type": "markdown",
      "source": [
        "14. Write a program to reverse a string using a while loop."
      ],
      "metadata": {
        "id": "dcX9VYIh_HVN"
      }
    },
    {
      "cell_type": "code",
      "source": [
        "s = input(\"Enter a string: \")\n",
        "reversed_str = \"\"\n",
        "index = len(s) - 1\n",
        "\n",
        "while index >= 0:\n",
        "    reversed_str += s[index]\n",
        "    index -= 1\n",
        "print(\"Reversed:\", reversed_str)"
      ],
      "metadata": {
        "colab": {
          "base_uri": "https://localhost:8080/"
        },
        "id": "uzI5GESP_JEU",
        "outputId": "11a6f8d8-75f3-4368-b75c-bd16e8a8184a"
      },
      "execution_count": 31,
      "outputs": [
        {
          "output_type": "stream",
          "name": "stdout",
          "text": [
            "Enter a string: afwshjsjh\n",
            "Reversed: hjsjhswfa\n"
          ]
        }
      ]
    },
    {
      "cell_type": "markdown",
      "source": [
        "15. Write a Python program to calculate the factorial of a number provided by the user using a while loop."
      ],
      "metadata": {
        "id": "ZGf5IKu0_i5J"
      }
    },
    {
      "cell_type": "code",
      "source": [
        "num = int(input(\"Enter a number: \"))\n",
        "factorial = 1\n",
        "\n",
        "if num < 0:\n",
        "    print(\"Invalid input (negative number)\")\n",
        "else:\n",
        "    while num > 0:\n",
        "        factorial *= num\n",
        "        num -= 1\n",
        "    print(\"Factorial:\", factorial)"
      ],
      "metadata": {
        "colab": {
          "base_uri": "https://localhost:8080/"
        },
        "id": "qg3bLU86_j4u",
        "outputId": "6ec92fe8-82e9-46ee-e11a-5d28780e63cf"
      },
      "execution_count": 32,
      "outputs": [
        {
          "output_type": "stream",
          "name": "stdout",
          "text": [
            "Enter a number: 6\n",
            "Factorial: 720\n"
          ]
        }
      ]
    }
  ]
}